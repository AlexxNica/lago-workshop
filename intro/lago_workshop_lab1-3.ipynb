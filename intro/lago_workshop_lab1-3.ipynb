{
 "cells": [
  {
   "cell_type": "markdown",
   "metadata": {
    "slideshow": {
     "slide_type": "slide"
    }
   },
   "source": [
    "# Lago Workshop!\n",
    "Introduction to Lago CLI and SDK."
   ]
  },
  {
   "cell_type": "markdown",
   "metadata": {
    "slideshow": {
     "slide_type": "slide"
    }
   },
   "source": [
    "Lab 0\n",
    "=====\n",
    "\n",
    "**Goal: Get your machine setup for running the lab**\n",
    "\n",
    "Clone the workshop repository from GitHub:\n",
    "```bash\n",
    "\n",
    "$ git clone https://github.com/lago-project/lago-workshop.git\n",
    "```\n",
    "\n",
    "Switch to the workshop virtual environment by running:\n",
    "\n",
    "```bash\n",
    "$ workon lago_workshop\n",
    "```"
   ]
  },
  {
   "cell_type": "markdown",
   "metadata": {
    "slideshow": {
     "slide_type": "slide"
    }
   },
   "source": [
    "Lab A\n",
    "=====\n",
    "\n",
    "** Goal: Get to know Lago Command Line **\n",
    "\n",
    "Ensure Lago is working on your laptop by running:\n",
    "```bash\n",
    "$ lago --version\n",
    "```\n",
    "\n",
    "Change to your to the lago-workshop first lab example:\n",
    "\n",
    "```bash\n",
    "$ cd ~/lago-workshop/intro\n",
    "```\n",
    "\n",
    "Explore the init file by running:\n",
    "```bash\n",
    "$ cat init-simple.yaml\n",
    "```\n",
    "\n",
    "Initalize the virtual environment:\n",
    "```bash\n",
    "$ lago init init-simple.yaml\n",
    "```\n",
    "\n",
    "Start the enviornment:\n",
    "```bash\n",
    "$ lago start\n",
    "```\n",
    "\n",
    "When the enviornment is up, run:\n",
    "```bash\n",
    "$ lago status\n",
    "```\n",
    "notice that the VM ``vm-01`` status should be \"running\".\n",
    "\n",
    "Now we will run a command inside the VM with SSH, we will check the VM's uptime:\n",
    "```bash\n",
    "$ lago shell vm-01 -c 'uptime'\n",
    "```\n",
    "\n",
    "Now lets see where Lago stores metadata, run:\n",
    "\n",
    "```bash\n",
    "$ tree .lago\n",
    "```\n",
    "\n",
    "Exercise\n",
    "*********\n",
    "Interactive shell can be done by running ``lago shell vm-01``, this is parallel to to \"normal\" SSH you would do to a remote machine. Log into the machine and extract which distribution it is, normally this information is stored in a file with the glob matching ``/etc/*release*``. To exit the interactive shell run ``exit``.\n",
    "\n",
    "\n",
    "\n",
    "\n",
    "\n",
    "<details>\n",
    "  <summary>Click here for for answer</summary>\n",
    "  Thats right, it is CentOS 7.3!, this information can be extracted by SSH'ing into the VM and running cat /etc/*release*.\n",
    "</details>\n",
    "\n",
    "\n",
    "\n",
    "Finally, lets destroy the enviornment, run inside the same directory:\n",
    "```bash\n",
    "$ lago destroy --yes\n",
    "```\n",
    "\n",
    "\n"
   ]
  },
  {
   "cell_type": "markdown",
   "metadata": {
    "slideshow": {
     "slide_type": "slide"
    }
   },
   "source": [
    "Lab B\n",
    "=====\n",
    "**Goal: Working with Lago SDK!**\n",
    "\n",
    "Goal: Initalize the Lago enviornment, directly from Python.\n",
    "\n",
    "Change to the workshop intro directory:\n",
    "```bash\n",
    "$ cd ~/lago-workshop/intro\n",
    "```\n",
    "\n",
    "Start an interactive IPython session by running:\n",
    "```bash\n",
    "$ ipython\n",
    "```\n",
    "\n",
    "Inside the IPython console, first import the dependencies:"
   ]
  },
  {
   "cell_type": "code",
   "execution_count": 1,
   "metadata": {
    "collapsed": true,
    "slideshow": {
     "slide_type": "slide"
    }
   },
   "outputs": [],
   "source": [
    "import logging\n",
    "from lago import sdk"
   ]
  },
  {
   "cell_type": "markdown",
   "metadata": {
    "slideshow": {
     "slide_type": "slide"
    }
   },
   "source": [
    "Now create the same environment by calling ``sdk.init``, also we'll setup logging for debugging at ``/tmp/lago.log``:"
   ]
  },
  {
   "cell_type": "code",
   "execution_count": 2,
   "metadata": {
    "collapsed": true,
    "slideshow": {
     "slide_type": "slide"
    }
   },
   "outputs": [],
   "source": [
    "env = sdk.init(config='init-simple.yaml',\n",
    "              workdir='/tmp/lago_sdk_simple_example',\n",
    "              loglevel=logging.DEBUG,\n",
    "              log_fname='/tmp/lago.log')\n"
   ]
  },
  {
   "cell_type": "markdown",
   "metadata": {
    "slideshow": {
     "slide_type": "subslide"
    }
   },
   "source": [
    "Start the environment:"
   ]
  },
  {
   "cell_type": "code",
   "execution_count": 3,
   "metadata": {
    "collapsed": false,
    "slideshow": {
     "slide_type": "subslide"
    }
   },
   "outputs": [],
   "source": [
    "env.start()"
   ]
  },
  {
   "cell_type": "markdown",
   "metadata": {
    "slideshow": {
     "slide_type": "subslide"
    }
   },
   "source": [
    "Check which VMs are available by using the ``get_vms()`` method:"
   ]
  },
  {
   "cell_type": "code",
   "execution_count": 4,
   "metadata": {
    "collapsed": false,
    "slideshow": {
     "slide_type": "subslide"
    }
   },
   "outputs": [
    {
     "name": "stdout",
     "output_type": "stream",
     "text": [
      "{'vm-01': <lago.vm.DefaultVM object at 0x7f5e46e74490>}\n"
     ]
    }
   ],
   "source": [
    "vms = env.get_vms()\n",
    "print vms"
   ]
  },
  {
   "cell_type": "code",
   "execution_count": 5,
   "metadata": {
    "collapsed": true,
    "slideshow": {
     "slide_type": "subslide"
    }
   },
   "outputs": [],
   "source": [
    "vm = vms['vm-01']"
   ]
  },
  {
   "cell_type": "markdown",
   "metadata": {
    "slideshow": {
     "slide_type": "subslide"
    }
   },
   "source": [
    "Now we'll print some metadata available in the virtual machine object, namely the VM's IP and Linux distribution:"
   ]
  },
  {
   "cell_type": "code",
   "execution_count": 6,
   "metadata": {
    "collapsed": false,
    "slideshow": {
     "slide_type": "subslide"
    }
   },
   "outputs": [
    {
     "name": "stdout",
     "output_type": "stream",
     "text": [
      "el7\n",
      "192.168.202.2\n"
     ]
    }
   ],
   "source": [
    "distro = vm.distro()\n",
    "print distro\n",
    "ip = vm.ip()\n",
    "print ip"
   ]
  },
  {
   "cell_type": "markdown",
   "metadata": {},
   "source": [
    "By running ``dir``, we can see other methods which are available in the VM object:"
   ]
  },
  {
   "cell_type": "code",
   "execution_count": 14,
   "metadata": {
    "collapsed": false
   },
   "outputs": [
    {
     "data": {
      "text/plain": [
       "['__abstractmethods__',\n",
       " '__class__',\n",
       " '__delattr__',\n",
       " '__dict__',\n",
       " '__doc__',\n",
       " '__format__',\n",
       " '__getattribute__',\n",
       " '__hash__',\n",
       " '__init__',\n",
       " '__metaclass__',\n",
       " '__module__',\n",
       " '__new__',\n",
       " '__reduce__',\n",
       " '__reduce_ex__',\n",
       " '__repr__',\n",
       " '__setattr__',\n",
       " '__sizeof__',\n",
       " '__str__',\n",
       " '__subclasshook__',\n",
       " '__weakref__',\n",
       " '_abc_cache',\n",
       " '_abc_negative_cache',\n",
       " '_abc_negative_cache_version',\n",
       " '_abc_registry',\n",
       " '_artifact_paths',\n",
       " '_detect_service_provider',\n",
       " '_get_service_provider',\n",
       " '_get_vm_provider',\n",
       " '_normalize_spec',\n",
       " '_scp',\n",
       " '_service_class',\n",
       " '_spec',\n",
       " '_ssh_client',\n",
       " '_template_metadata',\n",
       " 'alive',\n",
       " 'all_ips',\n",
       " 'bootstrap',\n",
       " 'collect_artifacts',\n",
       " 'copy_from',\n",
       " 'copy_to',\n",
       " 'cpu_model',\n",
       " 'cpu_vendor',\n",
       " 'create_snapshot',\n",
       " 'defined',\n",
       " 'disks',\n",
       " 'distro',\n",
       " 'export_disks',\n",
       " 'extract_paths',\n",
       " 'groups',\n",
       " 'guest_agent',\n",
       " 'has_guest_agent',\n",
       " 'interactive_console',\n",
       " 'interactive_ssh',\n",
       " 'ip',\n",
       " 'iscsi_name',\n",
       " 'metadata',\n",
       " 'mgmt_name',\n",
       " 'mgmt_net',\n",
       " 'name',\n",
       " 'nets',\n",
       " 'nics',\n",
       " 'provider',\n",
       " 'reboot',\n",
       " 'revert_snapshot',\n",
       " 'root_password',\n",
       " 'save',\n",
       " 'service',\n",
       " 'service_providers',\n",
       " 'shutdown',\n",
       " 'spec',\n",
       " 'ssh',\n",
       " 'ssh_reachable',\n",
       " 'ssh_script',\n",
       " 'start',\n",
       " 'state',\n",
       " 'stop',\n",
       " 'virt_env',\n",
       " 'vm_providers',\n",
       " 'vm_type',\n",
       " 'wait_for_ssh']"
      ]
     },
     "execution_count": 14,
     "metadata": {},
     "output_type": "execute_result"
    }
   ],
   "source": [
    "dir(vm)"
   ]
  },
  {
   "cell_type": "markdown",
   "metadata": {
    "slideshow": {
     "slide_type": "subslide"
    }
   },
   "source": [
    "Now lets run an automated SSH command to the VM:"
   ]
  },
  {
   "cell_type": "code",
   "execution_count": 7,
   "metadata": {
    "collapsed": true,
    "slideshow": {
     "slide_type": "subslide"
    }
   },
   "outputs": [],
   "source": [
    "res = vm.ssh(['hostname', '-f'])"
   ]
  },
  {
   "cell_type": "markdown",
   "metadata": {
    "slideshow": {
     "slide_type": "subslide"
    }
   },
   "source": [
    "The returned object of type ``CommandStatus`` includes 3 variabiles: ``out``, ``err`` which contain the SSH command standard output, standard error and finally the ``code`` which is the command's exit code on the VM."
   ]
  },
  {
   "cell_type": "code",
   "execution_count": 8,
   "metadata": {
    "collapsed": false
   },
   "outputs": [
    {
     "data": {
      "text/plain": [
       "CommandStatus(code=0, out='vm-01.lago.local\\n', err='')"
      ]
     },
     "execution_count": 8,
     "metadata": {},
     "output_type": "execute_result"
    }
   ],
   "source": [
    "res"
   ]
  },
  {
   "cell_type": "markdown",
   "metadata": {
    "slideshow": {
     "slide_type": "subslide"
    }
   },
   "source": [
    "*Exercise* : Try running a command that will not work, and check what is the error code. "
   ]
  },
  {
   "cell_type": "markdown",
   "metadata": {
    "slideshow": {
     "slide_type": "subslide"
    }
   },
   "source": [
    "*Exercise* : For the brave(on the whiteboard)"
   ]
  },
  {
   "cell_type": "markdown",
   "metadata": {
    "slideshow": {
     "slide_type": "subslide"
    }
   },
   "source": [
    "Another important functionality of Lago, is to collect existing files from the virtual machine. This is the function signature:\n",
    "```python\n",
    "    def collect_artifacts(self, output_dir, ignore_nopath):\n",
    "```\n",
    "The ``output_dir`` parameter, is where you would like to collect those files. The files to collect are defined in the LagoInitFile, if not defined it will default to ``/var/log``.\n",
    "*Note that if the output_dir already exists it will try to rotate it, so never do it on your home directory. This is designed that way so you could collect results of several different runs to the same directory*\n",
    "\n",
    "First open another terminal window, with that in hand run:\n"
   ]
  },
  {
   "cell_type": "code",
   "execution_count": 9,
   "metadata": {
    "collapsed": true
   },
   "outputs": [],
   "source": [
    "env.collect_artifacts(output_dir='/tmp/myluckyday', ignore_nopath=True)"
   ]
  },
  {
   "cell_type": "markdown",
   "metadata": {},
   "source": [
    "Now on your other terminal window, run:\n",
    "```bash\n",
    "$ tree /tmp/myluckyday\n",
    "```\n",
    "You should see a nice structutre of directories composed of the VM name, and the path which was collected.\n",
    "Now run the same command again, and check out the ``/tmp/myluckday`` directory in your terminal, you should see that logs were collected twice. "
   ]
  },
  {
   "cell_type": "markdown",
   "metadata": {},
   "source": [
    "Now lets see how you can reload the environment to a different object, and by that perserve it states. Here we will load it into the same session, but you could have exited and reloaded it later, run:"
   ]
  },
  {
   "cell_type": "code",
   "execution_count": 11,
   "metadata": {
    "collapsed": false
   },
   "outputs": [],
   "source": [
    "new_env = sdk.load_env(workdir='/tmp/lago_sdk_simple_example')"
   ]
  },
  {
   "cell_type": "code",
   "execution_count": 12,
   "metadata": {
    "collapsed": false
   },
   "outputs": [
    {
     "data": {
      "text/plain": [
       "{u'vm-01': <lago.vm.DefaultVM at 0x7f5e46c7f210>}"
      ]
     },
     "execution_count": 12,
     "metadata": {},
     "output_type": "execute_result"
    }
   ],
   "source": [
    "new_env.get_vms()"
   ]
  },
  {
   "cell_type": "markdown",
   "metadata": {},
   "source": [
    "Finally, lets destroy the environment, leaving no traces: "
   ]
  },
  {
   "cell_type": "code",
   "execution_count": 13,
   "metadata": {
    "collapsed": true
   },
   "outputs": [],
   "source": [
    "new_env.destroy()"
   ]
  }
 ],
 "metadata": {
  "celltoolbar": "Slideshow",
  "kernelspec": {
   "display_name": "Python 2",
   "language": "python",
   "name": "python2"
  },
  "language_info": {
   "codemirror_mode": {
    "name": "ipython",
    "version": 2
   },
   "file_extension": ".py",
   "mimetype": "text/x-python",
   "name": "python",
   "nbconvert_exporter": "python",
   "pygments_lexer": "ipython2",
   "version": "2.7.13"
  }
 },
 "nbformat": 4,
 "nbformat_minor": 1
}
