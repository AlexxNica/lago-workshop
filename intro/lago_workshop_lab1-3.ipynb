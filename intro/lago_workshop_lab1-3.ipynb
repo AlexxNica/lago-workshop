{
 "cells": [
  {
   "cell_type": "markdown",
   "metadata": {
    "slideshow": {
     "slide_type": "slide"
    }
   },
   "source": [
    "# Lago Workshop!\n",
    "Introduction to Lago CLI and SDK."
   ]
  },
  {
   "cell_type": "markdown",
   "metadata": {
    "slideshow": {
     "slide_type": "slide"
    }
   },
   "source": [
    "Lab 0\n",
    "=====\n",
    "\n",
    "**Goal: Get your machine setup for running the lab**\n",
    "\n",
    "Clone the workshop repository from GitHub:\n",
    "```bash\n",
    "\n",
    "$ git clone https://github.com/lago-project/lago-workshop.git\n",
    "```\n",
    "\n",
    "Switch to the workshop virtual enviornment by running:\n",
    "\n",
    "```bash\n",
    "\n",
    "$ workon lago-workshop\n",
    "```\n",
    "\n",
    "If you are not working with virtualenv, install the ``requirements.txt`` in the root directory of the cloned workshop by running:\n",
    "```bash\n",
    "$ pip -I -r requirements.txt\n",
    "```"
   ]
  },
  {
   "cell_type": "markdown",
   "metadata": {
    "slideshow": {
     "slide_type": "slide"
    }
   },
   "source": [
    "Lab A\n",
    "=====\n",
    "\n",
    "** Goal: Get to know Lago Command Line **\n",
    "\n",
    "Ensure Lago is working on your laptop by running:\n",
    "```bash\n",
    "$ lago --version\n",
    "```\n",
    "\n",
    "Change to your to the lago-workshop first lab example:\n",
    "\n",
    "```bash\n",
    "$ cd ~/lago-workshop/intro\n",
    "```\n",
    "\n",
    "Explore the init file by running:\n",
    "```bash\n",
    "$ cat init-simple.yaml\n",
    "```\n",
    "\n",
    "Initalize the virtual enviornment:\n",
    "```bash\n",
    "$ lago init\n",
    "```\n",
    "\n",
    "Start the enviornment:\n",
    "```bash\n",
    "$ lago start\n",
    "```\n",
    "\n",
    "When the enviornment is up, run ``lago status``, notice that the VM ``vm-01`` status should be \"running\"\n",
    "\n",
    "Now execute a command on the VM with SSH, we will check the VM's uptime:\n",
    "```bash\n",
    "$ lago shell test-vm01 -c 'uptime'\n",
    "```\n",
    "\n",
    "Exercise\n",
    "*********\n",
    "Interactive shell can be done by running ``lago shell test-vm01``, this is parallel to to \"normal\" ssh you would to a remote machine. Log into the machine and extract which distribution it is, normally this information is stored in a file with the glob  matching ``/etc/*release*``.\n",
    "\n",
    "\n",
    "\n",
    "\n",
    "\n",
    "<details>\n",
    "  <summary>Click here for for answer</summary>\n",
    "  Thats right, it is CentOS 7.3!, this information can be extracted by SSH'ing into the VM and running cat /etc/*release*.\n",
    "</details>\n",
    "\n",
    "\n",
    "\n",
    "Finally, lets destroy the enviornment, run inside the same directory:\n",
    "```bash\n",
    "$ lago destroy\n",
    "```\n",
    "\n",
    "\n"
   ]
  },
  {
   "cell_type": "markdown",
   "metadata": {
    "slideshow": {
     "slide_type": "slide"
    }
   },
   "source": [
    "Lab B\n",
    "=====\n",
    "**Goal: Working with Lago SDK!**\n",
    "\n",
    "Goal: Initalize the Lago enviornment, directly from Python.\n",
    "\n",
    "Change to the workshop intro directory:\n",
    "```bash\n",
    "$ cd ~/lago-workshop/intro\n",
    "```\n",
    "\n",
    "Start an interactive IPython session by running:\n",
    "```bash\n",
    "$ ipython\n",
    "```\n",
    "\n",
    "Inside the IPython console, first import the dependencies:"
   ]
  },
  {
   "cell_type": "code",
   "execution_count": 1,
   "metadata": {
    "collapsed": true,
    "slideshow": {
     "slide_type": "slide"
    }
   },
   "outputs": [],
   "source": [
    "import logging\n",
    "from lago import sdk"
   ]
  },
  {
   "cell_type": "markdown",
   "metadata": {
    "slideshow": {
     "slide_type": "slide"
    }
   },
   "source": [
    "Now create the same environment by calling ``sdk.init``, also we'll setup logging for debugging at ``/tmp/lago.log``:"
   ]
  },
  {
   "cell_type": "code",
   "execution_count": 3,
   "metadata": {
    "collapsed": true,
    "slideshow": {
     "slide_type": "slide"
    }
   },
   "outputs": [],
   "source": [
    "env = sdk.init(config='init-simple.yaml',\n",
    "              workdir='/tmp/lago_sdk_simple_example',\n",
    "              loglevel=logging.DEBUG,\n",
    "              log_fname='/tmp/lago.log')\n"
   ]
  },
  {
   "cell_type": "markdown",
   "metadata": {
    "slideshow": {
     "slide_type": "subslide"
    }
   },
   "source": [
    "Start the environment:"
   ]
  },
  {
   "cell_type": "code",
   "execution_count": 4,
   "metadata": {
    "collapsed": false,
    "slideshow": {
     "slide_type": "subslide"
    }
   },
   "outputs": [],
   "source": [
    "env.start()"
   ]
  },
  {
   "cell_type": "markdown",
   "metadata": {
    "slideshow": {
     "slide_type": "subslide"
    }
   },
   "source": [
    "Check which VMs are available by using the ``get_vms()`` method:"
   ]
  },
  {
   "cell_type": "code",
   "execution_count": 6,
   "metadata": {
    "collapsed": false,
    "slideshow": {
     "slide_type": "subslide"
    }
   },
   "outputs": [
    {
     "name": "stdout",
     "output_type": "stream",
     "text": [
      "{'vm-01': <lago.vm.DefaultVM object at 0x7f793158a2d0>}\n"
     ]
    }
   ],
   "source": [
    "vms = env.get_vms()\n",
    "print vms"
   ]
  },
  {
   "cell_type": "code",
   "execution_count": 7,
   "metadata": {
    "collapsed": true,
    "slideshow": {
     "slide_type": "subslide"
    }
   },
   "outputs": [],
   "source": [
    "vm = vms['vm-01']"
   ]
  },
  {
   "cell_type": "markdown",
   "metadata": {
    "slideshow": {
     "slide_type": "subslide"
    }
   },
   "source": [
    "Now we'll print some metadata available at the virtual machine object, namely the VM's IP and Linux distribution:"
   ]
  },
  {
   "cell_type": "code",
   "execution_count": 8,
   "metadata": {
    "collapsed": false,
    "slideshow": {
     "slide_type": "subslide"
    }
   },
   "outputs": [
    {
     "name": "stdout",
     "output_type": "stream",
     "text": [
      "el7\n",
      "192.168.200.2\n"
     ]
    }
   ],
   "source": [
    "distro = vm.distro()\n",
    "print distro\n",
    "ip = vm.ip()\n",
    "print ip"
   ]
  },
  {
   "cell_type": "markdown",
   "metadata": {
    "slideshow": {
     "slide_type": "subslide"
    }
   },
   "source": [
    "Now lets run an automated SSH command to the VM:"
   ]
  },
  {
   "cell_type": "code",
   "execution_count": 9,
   "metadata": {
    "collapsed": true,
    "slideshow": {
     "slide_type": "subslide"
    }
   },
   "outputs": [],
   "source": [
    "res = vm.ssh(['hostname', '-f'])"
   ]
  },
  {
   "cell_type": "markdown",
   "metadata": {
    "slideshow": {
     "slide_type": "subslide"
    }
   },
   "source": [
    "The returned object of type ``CommandStatus`` includes 3 variabiles: ``out``, ``err`` which contain the SSH command standard output, standard output and finally the ``code`` which is the command's exit code on the VM."
   ]
  },
  {
   "cell_type": "code",
   "execution_count": 10,
   "metadata": {
    "collapsed": false
   },
   "outputs": [
    {
     "data": {
      "text/plain": [
       "CommandStatus(code=0, out='vm-01.lago.local\\n', err='')"
      ]
     },
     "execution_count": 10,
     "metadata": {},
     "output_type": "execute_result"
    }
   ],
   "source": [
    "res"
   ]
  },
  {
   "cell_type": "markdown",
   "metadata": {
    "slideshow": {
     "slide_type": "subslide"
    }
   },
   "source": [
    "*Exercise* : Try running a command that will not work, and check what is the error code. "
   ]
  },
  {
   "cell_type": "markdown",
   "metadata": {
    "slideshow": {
     "slide_type": "subslide"
    }
   },
   "source": [
    "Another important functionality of Lago, is to collect existing files from the virtual machine. This is the function signature:\n",
    "```python\n",
    "    def collect_artifacts(self, output_dir, ignore_nopath):\n",
    "```\n",
    "The ``output_dir`` parameter, is where you would like to collect those files. The files to collect are defined in the LagoInitFile, if not defined it will default to ``/var/log``.\n",
    "*Note that if the output_dir already exists it will try to rotate it, so never do it on your home directory. This is designed that way so you could collect results of several different runs to the same directory*\n",
    "\n",
    "First open another terminal window, with that in hand run:\n"
   ]
  },
  {
   "cell_type": "code",
   "execution_count": 11,
   "metadata": {
    "collapsed": true
   },
   "outputs": [],
   "source": [
    "env.collect_artifacts(output_dir='/tmp/myluckyday', ignore_nopath=True)"
   ]
  },
  {
   "cell_type": "markdown",
   "metadata": {},
   "source": [
    "Now on your other terminal window, run:\n",
    "```bash\n",
    "$ tree /tmp/myluckyday\n",
    "```\n",
    "You should see a nice structutre of directories composed of the VM name, and the path which was collected.\n",
    "Now run the same command again, and check out the ``/tmp/myluckday`` directory in your terminal, you should see that logs were collected twice. "
   ]
  },
  {
   "cell_type": "code",
   "execution_count": 12,
   "metadata": {
    "collapsed": true
   },
   "outputs": [],
   "source": [
    "env.collect_artifacts(output_dir='/tmp/myluckyday', ignore_nopath=True)"
   ]
  },
  {
   "cell_type": "markdown",
   "metadata": {},
   "source": [
    "Now exit from your IPython session and login again, and we will see how you can reload the existing environment: "
   ]
  },
  {
   "cell_type": "code",
   "execution_count": 13,
   "metadata": {
    "collapsed": true
   },
   "outputs": [],
   "source": [
    "import logging\n",
    "from lago import sdk"
   ]
  },
  {
   "cell_type": "code",
   "execution_count": 14,
   "metadata": {
    "collapsed": false
   },
   "outputs": [],
   "source": [
    "new_env = sdk.load_env(workdir='/tmp/lago_sdk_simple_example')"
   ]
  },
  {
   "cell_type": "code",
   "execution_count": 15,
   "metadata": {
    "collapsed": true
   },
   "outputs": [],
   "source": [
    "new_env.destroy()"
   ]
  }
 ],
 "metadata": {
  "celltoolbar": "Slideshow",
  "kernelspec": {
   "display_name": "Python 2",
   "language": "python",
   "name": "python2"
  },
  "language_info": {
   "codemirror_mode": {
    "name": "ipython",
    "version": 2
   },
   "file_extension": ".py",
   "mimetype": "text/x-python",
   "name": "python",
   "nbconvert_exporter": "python",
   "pygments_lexer": "ipython2",
   "version": "2.7.13"
  }
 },
 "nbformat": 4,
 "nbformat_minor": 1
}
